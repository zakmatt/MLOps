{
 "cells": [
  {
   "cell_type": "code",
   "execution_count": 53,
   "id": "7577b215-c422-4071-aef7-686f25228090",
   "metadata": {},
   "outputs": [],
   "source": [
    "import numpy as np\n",
    "import os\n",
    "import pandas as pd\n",
    "import pickle\n",
    "import sklearn\n",
    "\n",
    "from sklearn.feature_extraction import DictVectorizer\n",
    "from sklearn.linear_model import LinearRegression\n",
    "from sklearn.pipeline import Pipeline"
   ]
  },
  {
   "cell_type": "code",
   "execution_count": 52,
   "id": "a50a5b14-24b5-4c11-b30e-82f4752a6cf4",
   "metadata": {},
   "outputs": [],
   "source": [
    "year = 2023\n",
    "month = 3\n",
    "taxi_type = \"yellow\"\n",
    "input_file = f\"https://d37ci6vzurychx.cloudfront.net/trip-data/{taxi_type}_tripdata_{year:04d}-{month:02d}.parquet\"\n",
    "output_file = f\"processed_{taxi_type}_tripdata_{year:04d}-{month:02d}.parquet\"\n",
    "model_path = \"model.bin\"\n",
    "\n",
    "CATEGORICAL = ['PULocationID', 'DOLocationID']\n",
    "TARGET = 'duration'"
   ]
  },
  {
   "cell_type": "code",
   "execution_count": 71,
   "id": "d75d099d-3244-4c09-92f9-959e0f0ec401",
   "metadata": {},
   "outputs": [],
   "source": [
    "def read_data(file_name):\n",
    "    df = pd.read_parquet(file_name)\n",
    "    df[TARGET] = df.tpep_dropoff_datetime - df.tpep_pickup_datetime\n",
    "    df[TARGET] = df[TARGET].dt.total_seconds() / 60\n",
    "    df = df[(df[TARGET] >= 1) & (df[TARGET] <= 60)].copy()\n",
    "    df[\"ride_id\"] = f'{year:04d}/{month:02d}_' + test_data.index.astype('str')\n",
    "    return df\n",
    "\n",
    "def prepare_data(df):\n",
    "    df[CATEGORICAL] = df[CATEGORICAL].fillna(-1).astype('int').astype('str')\n",
    "    X = df[CATEGORICAL].to_dict(orient='records')\n",
    "    target = data[TARGET].values\n",
    "\n",
    "    return X, target\n",
    "\n",
    "def load_model():\n",
    "    with open(model_path, \"rb\") as f:\n",
    "        dv, lr = pickle.load(f)\n",
    "\n",
    "    model = Pipeline([\n",
    "        ('vectorizer', dv),\n",
    "        ('regression', lr)\n",
    "    ])\n",
    "\n",
    "    return model\n",
    "\n",
    "def apply_model(file_name, output_file):\n",
    "    model = load_model()\n",
    "    data = read_data(file_name)\n",
    "    X, target = prepare_data(data.copy())\n",
    "    predictions = model.predict(X)\n",
    "\n",
    "    result = pd.DataFrame()\n",
    "    result[\"ride_id\"] = data[\"ride_id\"]\n",
    "    result[TARGET] = predictions\n",
    "\n",
    "    result.to_parquet(\n",
    "        output_file,\n",
    "        engine='pyarrow'\n",
    "    )"
   ]
  },
  {
   "cell_type": "code",
   "execution_count": 15,
   "id": "1fa0db04-fb93-496d-af65-98fdc75d40e2",
   "metadata": {},
   "outputs": [
    {
     "data": {
      "text/plain": [
       "6.247483064778619"
      ]
     },
     "execution_count": 15,
     "metadata": {},
     "output_type": "execute_result"
    }
   ],
   "source": [
    "result = lr.predict(x_test)\n",
    "np.std(result)"
   ]
  },
  {
   "cell_type": "code",
   "execution_count": 72,
   "id": "b71b66ae-b645-4bc1-b02e-f24c4c6f25a1",
   "metadata": {},
   "outputs": [],
   "source": [
    "apply_model(input_file, output_file)"
   ]
  },
  {
   "cell_type": "code",
   "execution_count": 73,
   "id": "6db0df5e-0537-484f-b9a7-2f2d85dec979",
   "metadata": {},
   "outputs": [
    {
     "name": "stdout",
     "output_type": "stream",
     "text": [
      " 36M\t./processed_yellow_tripdata_2023-03.parquet\n"
     ]
    }
   ],
   "source": [
    "! du -sh ./processed_yellow_tripdata_2023-03.parquet"
   ]
  },
  {
   "cell_type": "code",
   "execution_count": 76,
   "id": "a9f4eb0b-ccac-4287-86e0-375654893e07",
   "metadata": {},
   "outputs": [
    {
     "data": {
      "text/plain": [
       "14.203865642696083"
      ]
     },
     "execution_count": 76,
     "metadata": {},
     "output_type": "execute_result"
    }
   ],
   "source": [
    "predictions.mean()"
   ]
  },
  {
   "cell_type": "code",
   "execution_count": null,
   "id": "b6f1661b-60c0-43c0-8e57-5f32cae8384c",
   "metadata": {},
   "outputs": [],
   "source": []
  }
 ],
 "metadata": {
  "kernelspec": {
   "display_name": "Python 3 (ipykernel)",
   "language": "python",
   "name": "python3"
  },
  "language_info": {
   "codemirror_mode": {
    "name": "ipython",
    "version": 3
   },
   "file_extension": ".py",
   "mimetype": "text/x-python",
   "name": "python",
   "nbconvert_exporter": "python",
   "pygments_lexer": "ipython3",
   "version": "3.11.6"
  }
 },
 "nbformat": 4,
 "nbformat_minor": 5
}
